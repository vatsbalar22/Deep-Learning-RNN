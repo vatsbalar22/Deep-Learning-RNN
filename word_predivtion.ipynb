{
 "cells": [
  {
   "cell_type": "code",
   "execution_count": 1,
   "metadata": {},
   "outputs": [],
   "source": [
    "ffle = ''''my name is vats.\n",
    "where are you from, \n",
    "i am from surat,\n",
    "many time i comes in surt\n",
    "\n",
    "\n",
    "\n",
    "'''"
   ]
  },
  {
   "cell_type": "code",
   "execution_count": 2,
   "metadata": {},
   "outputs": [
    {
     "data": {
      "text/plain": [
       "\"'my name is vats.\\nwhere are you from, \\ni am from surat,\\nmany time i comes in surt\\n\\n\\n\\n\""
      ]
     },
     "execution_count": 2,
     "metadata": {},
     "output_type": "execute_result"
    }
   ],
   "source": [
    "ffle"
   ]
  },
  {
   "cell_type": "code",
   "execution_count": 3,
   "metadata": {},
   "outputs": [],
   "source": [
    "import tensorflow as tf \n",
    "from tensorflow import keras\n",
    "from tensorflow.keras.preprocessing.text import Tokenizer"
   ]
  },
  {
   "cell_type": "code",
   "execution_count": 4,
   "metadata": {},
   "outputs": [],
   "source": [
    "tokenizer = Tokenizer()"
   ]
  },
  {
   "cell_type": "code",
   "execution_count": 5,
   "metadata": {},
   "outputs": [],
   "source": [
    "tokenizer.fit_on_texts([ffle])"
   ]
  },
  {
   "cell_type": "code",
   "execution_count": 6,
   "metadata": {},
   "outputs": [
    {
     "data": {
      "text/plain": [
       "16"
      ]
     },
     "execution_count": 6,
     "metadata": {},
     "output_type": "execute_result"
    }
   ],
   "source": [
    "len(tokenizer.word_index)"
   ]
  },
  {
   "cell_type": "code",
   "execution_count": 7,
   "metadata": {},
   "outputs": [],
   "source": [
    "input_sequences = []\n",
    "for sentence in ffle.split('/n'):\n",
    "    tokenizer_sentence =tokenizer.texts_to_sequences([sentence])[0]\n",
    "\n",
    "    for i in range(1,len(tokenizer_sentence)):\n",
    "        input_sequences.append(tokenizer_sentence[:i+1])\n",
    "\n",
    "\n",
    "\n",
    "\n"
   ]
  },
  {
   "cell_type": "code",
   "execution_count": 8,
   "metadata": {},
   "outputs": [
    {
     "data": {
      "text/plain": [
       "[[3, 4],\n",
       " [3, 4, 5],\n",
       " [3, 4, 5, 6],\n",
       " [3, 4, 5, 6, 7],\n",
       " [3, 4, 5, 6, 7, 8],\n",
       " [3, 4, 5, 6, 7, 8, 9],\n",
       " [3, 4, 5, 6, 7, 8, 9, 1],\n",
       " [3, 4, 5, 6, 7, 8, 9, 1, 2],\n",
       " [3, 4, 5, 6, 7, 8, 9, 1, 2, 10],\n",
       " [3, 4, 5, 6, 7, 8, 9, 1, 2, 10, 1],\n",
       " [3, 4, 5, 6, 7, 8, 9, 1, 2, 10, 1, 11],\n",
       " [3, 4, 5, 6, 7, 8, 9, 1, 2, 10, 1, 11, 12],\n",
       " [3, 4, 5, 6, 7, 8, 9, 1, 2, 10, 1, 11, 12, 13],\n",
       " [3, 4, 5, 6, 7, 8, 9, 1, 2, 10, 1, 11, 12, 13, 2],\n",
       " [3, 4, 5, 6, 7, 8, 9, 1, 2, 10, 1, 11, 12, 13, 2, 14],\n",
       " [3, 4, 5, 6, 7, 8, 9, 1, 2, 10, 1, 11, 12, 13, 2, 14, 15],\n",
       " [3, 4, 5, 6, 7, 8, 9, 1, 2, 10, 1, 11, 12, 13, 2, 14, 15, 16]]"
      ]
     },
     "execution_count": 8,
     "metadata": {},
     "output_type": "execute_result"
    }
   ],
   "source": [
    "input_sequences"
   ]
  },
  {
   "cell_type": "code",
   "execution_count": 9,
   "metadata": {},
   "outputs": [],
   "source": [
    "max_len = max([len(x) for x in input_sequences])"
   ]
  },
  {
   "cell_type": "code",
   "execution_count": 10,
   "metadata": {},
   "outputs": [
    {
     "data": {
      "text/plain": [
       "18"
      ]
     },
     "execution_count": 10,
     "metadata": {},
     "output_type": "execute_result"
    }
   ],
   "source": [
    "max_len"
   ]
  },
  {
   "cell_type": "code",
   "execution_count": 11,
   "metadata": {},
   "outputs": [],
   "source": [
    "from tensorflow.keras.preprocessing.sequence import pad_sequences"
   ]
  },
  {
   "cell_type": "code",
   "execution_count": 12,
   "metadata": {},
   "outputs": [
    {
     "data": {
      "text/plain": [
       "array([[ 0,  0,  0,  0,  0,  0,  0,  0,  0,  0,  0,  0,  0,  0,  0,  0,\n",
       "         3,  4],\n",
       "       [ 0,  0,  0,  0,  0,  0,  0,  0,  0,  0,  0,  0,  0,  0,  0,  3,\n",
       "         4,  5],\n",
       "       [ 0,  0,  0,  0,  0,  0,  0,  0,  0,  0,  0,  0,  0,  0,  3,  4,\n",
       "         5,  6],\n",
       "       [ 0,  0,  0,  0,  0,  0,  0,  0,  0,  0,  0,  0,  0,  3,  4,  5,\n",
       "         6,  7],\n",
       "       [ 0,  0,  0,  0,  0,  0,  0,  0,  0,  0,  0,  0,  3,  4,  5,  6,\n",
       "         7,  8],\n",
       "       [ 0,  0,  0,  0,  0,  0,  0,  0,  0,  0,  0,  3,  4,  5,  6,  7,\n",
       "         8,  9],\n",
       "       [ 0,  0,  0,  0,  0,  0,  0,  0,  0,  0,  3,  4,  5,  6,  7,  8,\n",
       "         9,  1],\n",
       "       [ 0,  0,  0,  0,  0,  0,  0,  0,  0,  3,  4,  5,  6,  7,  8,  9,\n",
       "         1,  2],\n",
       "       [ 0,  0,  0,  0,  0,  0,  0,  0,  3,  4,  5,  6,  7,  8,  9,  1,\n",
       "         2, 10],\n",
       "       [ 0,  0,  0,  0,  0,  0,  0,  3,  4,  5,  6,  7,  8,  9,  1,  2,\n",
       "        10,  1],\n",
       "       [ 0,  0,  0,  0,  0,  0,  3,  4,  5,  6,  7,  8,  9,  1,  2, 10,\n",
       "         1, 11],\n",
       "       [ 0,  0,  0,  0,  0,  3,  4,  5,  6,  7,  8,  9,  1,  2, 10,  1,\n",
       "        11, 12],\n",
       "       [ 0,  0,  0,  0,  3,  4,  5,  6,  7,  8,  9,  1,  2, 10,  1, 11,\n",
       "        12, 13],\n",
       "       [ 0,  0,  0,  3,  4,  5,  6,  7,  8,  9,  1,  2, 10,  1, 11, 12,\n",
       "        13,  2],\n",
       "       [ 0,  0,  3,  4,  5,  6,  7,  8,  9,  1,  2, 10,  1, 11, 12, 13,\n",
       "         2, 14],\n",
       "       [ 0,  3,  4,  5,  6,  7,  8,  9,  1,  2, 10,  1, 11, 12, 13,  2,\n",
       "        14, 15],\n",
       "       [ 3,  4,  5,  6,  7,  8,  9,  1,  2, 10,  1, 11, 12, 13,  2, 14,\n",
       "        15, 16]])"
      ]
     },
     "execution_count": 12,
     "metadata": {},
     "output_type": "execute_result"
    }
   ],
   "source": [
    "padded_sequence =pad_sequences(input_sequences,maxlen=max_len,padding='pre')\n",
    "padded_sequence"
   ]
  },
  {
   "cell_type": "code",
   "execution_count": 13,
   "metadata": {},
   "outputs": [],
   "source": [
    "x =padded_sequence[:,:-1]\n",
    "y = padded_sequence[:,-1]"
   ]
  },
  {
   "cell_type": "code",
   "execution_count": 14,
   "metadata": {},
   "outputs": [
    {
     "data": {
      "text/plain": [
       "(17, 17)"
      ]
     },
     "execution_count": 14,
     "metadata": {},
     "output_type": "execute_result"
    }
   ],
   "source": [
    "x.shape"
   ]
  },
  {
   "cell_type": "code",
   "execution_count": 15,
   "metadata": {},
   "outputs": [],
   "source": [
    "from tensorflow.keras.utils import to_categorical\n",
    "y = to_categorical(y,num_classes=33)"
   ]
  },
  {
   "cell_type": "code",
   "execution_count": 16,
   "metadata": {},
   "outputs": [
    {
     "data": {
      "text/plain": [
       "(17, 33)"
      ]
     },
     "execution_count": 16,
     "metadata": {},
     "output_type": "execute_result"
    }
   ],
   "source": [
    "y.shape"
   ]
  },
  {
   "cell_type": "code",
   "execution_count": 17,
   "metadata": {},
   "outputs": [],
   "source": [
    "from tensorflow.keras.models import Sequential\n",
    "from tensorflow.keras.layers import Embedding,Dense,LSTM"
   ]
  },
  {
   "cell_type": "code",
   "execution_count": 18,
   "metadata": {},
   "outputs": [],
   "source": [
    "model = Sequential()\n",
    "\n",
    "model.add(Embedding(33,10, input_length=17))\n",
    "model.add(LSTM(150))\n",
    "model.add(Dense(33,activation='softmax'))"
   ]
  },
  {
   "cell_type": "code",
   "execution_count": 19,
   "metadata": {},
   "outputs": [
    {
     "name": "stdout",
     "output_type": "stream",
     "text": [
      "Model: \"sequential\"\n",
      "_________________________________________________________________\n",
      " Layer (type)                Output Shape              Param #   \n",
      "=================================================================\n",
      " embedding (Embedding)       (None, 17, 10)            330       \n",
      "                                                                 \n",
      " lstm (LSTM)                 (None, 150)               96600     \n",
      "                                                                 \n",
      " dense (Dense)               (None, 33)                4983      \n",
      "                                                                 \n",
      "=================================================================\n",
      "Total params: 101,913\n",
      "Trainable params: 101,913\n",
      "Non-trainable params: 0\n",
      "_________________________________________________________________\n"
     ]
    }
   ],
   "source": [
    "model.summary()"
   ]
  },
  {
   "cell_type": "code",
   "execution_count": 20,
   "metadata": {},
   "outputs": [],
   "source": [
    "model.compile(loss='categorical_crossentropy',optimizer='adam',metrics=['accuracy'])"
   ]
  },
  {
   "cell_type": "code",
   "execution_count": 21,
   "metadata": {},
   "outputs": [
    {
     "name": "stdout",
     "output_type": "stream",
     "text": [
      "Epoch 1/200\n"
     ]
    },
    {
     "name": "stdout",
     "output_type": "stream",
     "text": [
      "1/1 [==============================] - 5s 5s/step - loss: 3.4952 - accuracy: 0.0000e+00\n",
      "Epoch 2/200\n",
      "1/1 [==============================] - 0s 27ms/step - loss: 3.4889 - accuracy: 0.1176\n",
      "Epoch 3/200\n",
      "1/1 [==============================] - 0s 22ms/step - loss: 3.4820 - accuracy: 0.1176\n",
      "Epoch 4/200\n",
      "1/1 [==============================] - 0s 23ms/step - loss: 3.4740 - accuracy: 0.1176\n",
      "Epoch 5/200\n",
      "1/1 [==============================] - 0s 21ms/step - loss: 3.4640 - accuracy: 0.1176\n",
      "Epoch 6/200\n",
      "1/1 [==============================] - 0s 22ms/step - loss: 3.4508 - accuracy: 0.1176\n",
      "Epoch 7/200\n",
      "1/1 [==============================] - 0s 21ms/step - loss: 3.4327 - accuracy: 0.1176\n",
      "Epoch 8/200\n",
      "1/1 [==============================] - 0s 22ms/step - loss: 3.4072 - accuracy: 0.1176\n",
      "Epoch 9/200\n",
      "1/1 [==============================] - 0s 24ms/step - loss: 3.3703 - accuracy: 0.1176\n",
      "Epoch 10/200\n",
      "1/1 [==============================] - 0s 20ms/step - loss: 3.3159 - accuracy: 0.1176\n",
      "Epoch 11/200\n",
      "1/1 [==============================] - 0s 24ms/step - loss: 3.2358 - accuracy: 0.1176\n",
      "Epoch 12/200\n",
      "1/1 [==============================] - 0s 21ms/step - loss: 3.1219 - accuracy: 0.1176\n",
      "Epoch 13/200\n",
      "1/1 [==============================] - 0s 23ms/step - loss: 2.9821 - accuracy: 0.1176\n",
      "Epoch 14/200\n",
      "1/1 [==============================] - 0s 22ms/step - loss: 2.8800 - accuracy: 0.1176\n",
      "Epoch 15/200\n",
      "1/1 [==============================] - 0s 23ms/step - loss: 2.8717 - accuracy: 0.1176\n",
      "Epoch 16/200\n",
      "1/1 [==============================] - 0s 21ms/step - loss: 2.8487 - accuracy: 0.1176\n",
      "Epoch 17/200\n",
      "1/1 [==============================] - 0s 23ms/step - loss: 2.7975 - accuracy: 0.1176\n",
      "Epoch 18/200\n",
      "1/1 [==============================] - 0s 23ms/step - loss: 2.7472 - accuracy: 0.1176\n",
      "Epoch 19/200\n",
      "1/1 [==============================] - 0s 23ms/step - loss: 2.7149 - accuracy: 0.1176\n",
      "Epoch 20/200\n",
      "1/1 [==============================] - 0s 23ms/step - loss: 2.7018 - accuracy: 0.1176\n",
      "Epoch 21/200\n",
      "1/1 [==============================] - 0s 20ms/step - loss: 2.7006 - accuracy: 0.1176\n",
      "Epoch 22/200\n",
      "1/1 [==============================] - 0s 33ms/step - loss: 2.7035 - accuracy: 0.1176\n",
      "Epoch 23/200\n",
      "1/1 [==============================] - 0s 24ms/step - loss: 2.7056 - accuracy: 0.1176\n",
      "Epoch 24/200\n",
      "1/1 [==============================] - 0s 37ms/step - loss: 2.7047 - accuracy: 0.1176\n",
      "Epoch 25/200\n",
      "1/1 [==============================] - 0s 22ms/step - loss: 2.7004 - accuracy: 0.1176\n",
      "Epoch 26/200\n",
      "1/1 [==============================] - 0s 30ms/step - loss: 2.6936 - accuracy: 0.1176\n",
      "Epoch 27/200\n",
      "1/1 [==============================] - 0s 32ms/step - loss: 2.6855 - accuracy: 0.1176\n",
      "Epoch 28/200\n",
      "1/1 [==============================] - 0s 35ms/step - loss: 2.6772 - accuracy: 0.1176\n",
      "Epoch 29/200\n",
      "1/1 [==============================] - 0s 23ms/step - loss: 2.6698 - accuracy: 0.1176\n",
      "Epoch 30/200\n",
      "1/1 [==============================] - 0s 22ms/step - loss: 2.6631 - accuracy: 0.1176\n",
      "Epoch 31/200\n",
      "1/1 [==============================] - 0s 21ms/step - loss: 2.6561 - accuracy: 0.1176\n",
      "Epoch 32/200\n",
      "1/1 [==============================] - 0s 20ms/step - loss: 2.6481 - accuracy: 0.1176\n",
      "Epoch 33/200\n",
      "1/1 [==============================] - 0s 22ms/step - loss: 2.6390 - accuracy: 0.1176\n",
      "Epoch 34/200\n",
      "1/1 [==============================] - 0s 22ms/step - loss: 2.6291 - accuracy: 0.1176\n",
      "Epoch 35/200\n",
      "1/1 [==============================] - 0s 24ms/step - loss: 2.6179 - accuracy: 0.1176\n",
      "Epoch 36/200\n",
      "1/1 [==============================] - 0s 29ms/step - loss: 2.6035 - accuracy: 0.1176\n",
      "Epoch 37/200\n",
      "1/1 [==============================] - 0s 25ms/step - loss: 2.5849 - accuracy: 0.1176\n",
      "Epoch 38/200\n",
      "1/1 [==============================] - 0s 24ms/step - loss: 2.5637 - accuracy: 0.1176\n",
      "Epoch 39/200\n",
      "1/1 [==============================] - 0s 25ms/step - loss: 2.5385 - accuracy: 0.1176\n",
      "Epoch 40/200\n",
      "1/1 [==============================] - 0s 32ms/step - loss: 2.5061 - accuracy: 0.1176\n",
      "Epoch 41/200\n",
      "1/1 [==============================] - 0s 24ms/step - loss: 2.4664 - accuracy: 0.1176\n",
      "Epoch 42/200\n",
      "1/1 [==============================] - 0s 34ms/step - loss: 2.4236 - accuracy: 0.2353\n",
      "Epoch 43/200\n",
      "1/1 [==============================] - 0s 29ms/step - loss: 2.3813 - accuracy: 0.2941\n",
      "Epoch 44/200\n",
      "1/1 [==============================] - 0s 26ms/step - loss: 2.3400 - accuracy: 0.2353\n",
      "Epoch 45/200\n",
      "1/1 [==============================] - 0s 24ms/step - loss: 2.2982 - accuracy: 0.2353\n",
      "Epoch 46/200\n",
      "1/1 [==============================] - 0s 28ms/step - loss: 2.2553 - accuracy: 0.2353\n",
      "Epoch 47/200\n",
      "1/1 [==============================] - 0s 25ms/step - loss: 2.2104 - accuracy: 0.1765\n",
      "Epoch 48/200\n",
      "1/1 [==============================] - 0s 40ms/step - loss: 2.1602 - accuracy: 0.2353\n",
      "Epoch 49/200\n",
      "1/1 [==============================] - 0s 25ms/step - loss: 2.1126 - accuracy: 0.2353\n",
      "Epoch 50/200\n",
      "1/1 [==============================] - 0s 35ms/step - loss: 2.2151 - accuracy: 0.2941\n",
      "Epoch 51/200\n",
      "1/1 [==============================] - 0s 33ms/step - loss: 2.0367 - accuracy: 0.1765\n",
      "Epoch 52/200\n",
      "1/1 [==============================] - 0s 32ms/step - loss: 2.5423 - accuracy: 0.1765\n",
      "Epoch 53/200\n",
      "1/1 [==============================] - 0s 24ms/step - loss: 2.0133 - accuracy: 0.2353\n",
      "Epoch 54/200\n",
      "1/1 [==============================] - 0s 22ms/step - loss: 2.1615 - accuracy: 0.2353\n",
      "Epoch 55/200\n",
      "1/1 [==============================] - 0s 23ms/step - loss: 2.1069 - accuracy: 0.2353\n",
      "Epoch 56/200\n",
      "1/1 [==============================] - 0s 28ms/step - loss: 1.9950 - accuracy: 0.2353\n",
      "Epoch 57/200\n",
      "1/1 [==============================] - 0s 31ms/step - loss: 2.0616 - accuracy: 0.2353\n",
      "Epoch 58/200\n",
      "1/1 [==============================] - 0s 35ms/step - loss: 1.9553 - accuracy: 0.2353\n",
      "Epoch 59/200\n",
      "1/1 [==============================] - 0s 27ms/step - loss: 1.9812 - accuracy: 0.2353\n",
      "Epoch 60/200\n",
      "1/1 [==============================] - 0s 24ms/step - loss: 1.9749 - accuracy: 0.2941\n",
      "Epoch 61/200\n",
      "1/1 [==============================] - 0s 49ms/step - loss: 1.8775 - accuracy: 0.4118\n",
      "Epoch 62/200\n",
      "1/1 [==============================] - 0s 29ms/step - loss: 1.9445 - accuracy: 0.2353\n",
      "Epoch 63/200\n",
      "1/1 [==============================] - 0s 28ms/step - loss: 1.8359 - accuracy: 0.3529\n",
      "Epoch 64/200\n",
      "1/1 [==============================] - 0s 55ms/step - loss: 1.8770 - accuracy: 0.4706\n",
      "Epoch 65/200\n",
      "1/1 [==============================] - 0s 26ms/step - loss: 1.8483 - accuracy: 0.4706\n",
      "Epoch 66/200\n",
      "1/1 [==============================] - 0s 35ms/step - loss: 1.7938 - accuracy: 0.4118\n",
      "Epoch 67/200\n",
      "1/1 [==============================] - 0s 29ms/step - loss: 1.7870 - accuracy: 0.4118\n",
      "Epoch 68/200\n",
      "1/1 [==============================] - 0s 49ms/step - loss: 1.7742 - accuracy: 0.5294\n",
      "Epoch 69/200\n",
      "1/1 [==============================] - 0s 33ms/step - loss: 1.7580 - accuracy: 0.5294\n",
      "Epoch 70/200\n",
      "1/1 [==============================] - 0s 27ms/step - loss: 1.6948 - accuracy: 0.3529\n",
      "Epoch 71/200\n",
      "1/1 [==============================] - 0s 28ms/step - loss: 1.7172 - accuracy: 0.2941\n",
      "Epoch 72/200\n",
      "1/1 [==============================] - 0s 30ms/step - loss: 1.7175 - accuracy: 0.4706\n",
      "Epoch 73/200\n",
      "1/1 [==============================] - 0s 29ms/step - loss: 1.7213 - accuracy: 0.4706\n",
      "Epoch 74/200\n",
      "1/1 [==============================] - 0s 47ms/step - loss: 1.5977 - accuracy: 0.5294\n",
      "Epoch 75/200\n",
      "1/1 [==============================] - 0s 43ms/step - loss: 1.7777 - accuracy: 0.4118\n",
      "Epoch 76/200\n",
      "1/1 [==============================] - 0s 23ms/step - loss: 1.7544 - accuracy: 0.4118\n",
      "Epoch 77/200\n",
      "1/1 [==============================] - 0s 27ms/step - loss: 1.9054 - accuracy: 0.3529\n",
      "Epoch 78/200\n",
      "1/1 [==============================] - 0s 57ms/step - loss: 1.8337 - accuracy: 0.4706\n",
      "Epoch 79/200\n",
      "1/1 [==============================] - 0s 37ms/step - loss: 1.6942 - accuracy: 0.4118\n",
      "Epoch 80/200\n",
      "1/1 [==============================] - 0s 26ms/step - loss: 1.6724 - accuracy: 0.2353\n",
      "Epoch 81/200\n",
      "1/1 [==============================] - 0s 44ms/step - loss: 1.7550 - accuracy: 0.2353\n",
      "Epoch 82/200\n",
      "1/1 [==============================] - 0s 30ms/step - loss: 1.5669 - accuracy: 0.4706\n",
      "Epoch 83/200\n",
      "1/1 [==============================] - 0s 23ms/step - loss: 1.6799 - accuracy: 0.4118\n",
      "Epoch 84/200\n",
      "1/1 [==============================] - 0s 30ms/step - loss: 1.6992 - accuracy: 0.2941\n",
      "Epoch 85/200\n",
      "1/1 [==============================] - 0s 27ms/step - loss: 1.5826 - accuracy: 0.4706\n",
      "Epoch 86/200\n",
      "1/1 [==============================] - 0s 29ms/step - loss: 1.5070 - accuracy: 0.4118\n",
      "Epoch 87/200\n",
      "1/1 [==============================] - 0s 29ms/step - loss: 1.6315 - accuracy: 0.2353\n",
      "Epoch 88/200\n",
      "1/1 [==============================] - 0s 26ms/step - loss: 1.5047 - accuracy: 0.5294\n",
      "Epoch 89/200\n",
      "1/1 [==============================] - 0s 32ms/step - loss: 1.5573 - accuracy: 0.5294\n",
      "Epoch 90/200\n",
      "1/1 [==============================] - 0s 23ms/step - loss: 1.5639 - accuracy: 0.4706\n",
      "Epoch 91/200\n",
      "1/1 [==============================] - 0s 31ms/step - loss: 1.4656 - accuracy: 0.6471\n",
      "Epoch 92/200\n",
      "1/1 [==============================] - 0s 31ms/step - loss: 1.4565 - accuracy: 0.5294\n",
      "Epoch 93/200\n",
      "1/1 [==============================] - 0s 28ms/step - loss: 1.4738 - accuracy: 0.4118\n",
      "Epoch 94/200\n",
      "1/1 [==============================] - 0s 47ms/step - loss: 1.4155 - accuracy: 0.6471\n",
      "Epoch 95/200\n",
      "1/1 [==============================] - 0s 22ms/step - loss: 1.4719 - accuracy: 0.4706\n",
      "Epoch 96/200\n",
      "1/1 [==============================] - 0s 23ms/step - loss: 1.4178 - accuracy: 0.5294\n",
      "Epoch 97/200\n",
      "1/1 [==============================] - 0s 25ms/step - loss: 1.3669 - accuracy: 0.5882\n",
      "Epoch 98/200\n",
      "1/1 [==============================] - 0s 32ms/step - loss: 1.4305 - accuracy: 0.4706\n",
      "Epoch 99/200\n",
      "1/1 [==============================] - 0s 29ms/step - loss: 1.3358 - accuracy: 0.6471\n",
      "Epoch 100/200\n",
      "1/1 [==============================] - 0s 31ms/step - loss: 1.3911 - accuracy: 0.5882\n",
      "Epoch 101/200\n",
      "1/1 [==============================] - 0s 43ms/step - loss: 1.3279 - accuracy: 0.7059\n",
      "Epoch 102/200\n",
      "1/1 [==============================] - 0s 64ms/step - loss: 1.3569 - accuracy: 0.5882\n",
      "Epoch 103/200\n",
      "1/1 [==============================] - 0s 30ms/step - loss: 1.2808 - accuracy: 0.6471\n",
      "Epoch 104/200\n",
      "1/1 [==============================] - 0s 32ms/step - loss: 1.3033 - accuracy: 0.6471\n",
      "Epoch 105/200\n",
      "1/1 [==============================] - 0s 27ms/step - loss: 1.2735 - accuracy: 0.7059\n",
      "Epoch 106/200\n",
      "1/1 [==============================] - 0s 26ms/step - loss: 1.2714 - accuracy: 0.7059\n",
      "Epoch 107/200\n",
      "1/1 [==============================] - 0s 28ms/step - loss: 1.2448 - accuracy: 0.7647\n",
      "Epoch 108/200\n",
      "1/1 [==============================] - 0s 30ms/step - loss: 1.2458 - accuracy: 0.7059\n",
      "Epoch 109/200\n",
      "1/1 [==============================] - 0s 28ms/step - loss: 1.2297 - accuracy: 0.7647\n",
      "Epoch 110/200\n",
      "1/1 [==============================] - 0s 33ms/step - loss: 1.2332 - accuracy: 0.5882\n",
      "Epoch 111/200\n",
      "1/1 [==============================] - 0s 37ms/step - loss: 1.2047 - accuracy: 0.7647\n",
      "Epoch 112/200\n",
      "1/1 [==============================] - 0s 30ms/step - loss: 1.2076 - accuracy: 0.7059\n",
      "Epoch 113/200\n",
      "1/1 [==============================] - 0s 26ms/step - loss: 1.1864 - accuracy: 0.7647\n",
      "Epoch 114/200\n",
      "1/1 [==============================] - 0s 31ms/step - loss: 1.1913 - accuracy: 0.6471\n",
      "Epoch 115/200\n",
      "1/1 [==============================] - 0s 69ms/step - loss: 1.1785 - accuracy: 0.5882\n",
      "Epoch 116/200\n",
      "1/1 [==============================] - 0s 37ms/step - loss: 1.1659 - accuracy: 0.6471\n",
      "Epoch 117/200\n",
      "1/1 [==============================] - 0s 62ms/step - loss: 1.1686 - accuracy: 0.6471\n",
      "Epoch 118/200\n",
      "1/1 [==============================] - 0s 27ms/step - loss: 1.1491 - accuracy: 0.6471\n",
      "Epoch 119/200\n",
      "1/1 [==============================] - 0s 39ms/step - loss: 1.1394 - accuracy: 0.6471\n",
      "Epoch 120/200\n",
      "1/1 [==============================] - 0s 36ms/step - loss: 1.1431 - accuracy: 0.6471\n",
      "Epoch 121/200\n",
      "1/1 [==============================] - 0s 45ms/step - loss: 1.1311 - accuracy: 0.5882\n",
      "Epoch 122/200\n",
      "1/1 [==============================] - 0s 34ms/step - loss: 1.1122 - accuracy: 0.6471\n",
      "Epoch 123/200\n",
      "1/1 [==============================] - 0s 42ms/step - loss: 1.1312 - accuracy: 0.6471\n",
      "Epoch 124/200\n",
      "1/1 [==============================] - 0s 27ms/step - loss: 1.1533 - accuracy: 0.5294\n",
      "Epoch 125/200\n",
      "1/1 [==============================] - 0s 31ms/step - loss: 1.0959 - accuracy: 0.7059\n",
      "Epoch 126/200\n",
      "1/1 [==============================] - 0s 30ms/step - loss: 1.2231 - accuracy: 0.5294\n",
      "Epoch 127/200\n",
      "1/1 [==============================] - 0s 45ms/step - loss: 1.3405 - accuracy: 0.4706\n",
      "Epoch 128/200\n",
      "1/1 [==============================] - 0s 25ms/step - loss: 1.3625 - accuracy: 0.4706\n",
      "Epoch 129/200\n",
      "1/1 [==============================] - 0s 34ms/step - loss: 1.0966 - accuracy: 0.7647\n",
      "Epoch 130/200\n",
      "1/1 [==============================] - 0s 30ms/step - loss: 1.5836 - accuracy: 0.3529\n",
      "Epoch 131/200\n",
      "1/1 [==============================] - 0s 35ms/step - loss: 1.1826 - accuracy: 0.5294\n",
      "Epoch 132/200\n",
      "1/1 [==============================] - 0s 30ms/step - loss: 1.4421 - accuracy: 0.4706\n",
      "Epoch 133/200\n",
      "1/1 [==============================] - 0s 49ms/step - loss: 1.2679 - accuracy: 0.5294\n",
      "Epoch 134/200\n",
      "1/1 [==============================] - 0s 24ms/step - loss: 1.1179 - accuracy: 0.5882\n",
      "Epoch 135/200\n",
      "1/1 [==============================] - 0s 29ms/step - loss: 1.3421 - accuracy: 0.3529\n",
      "Epoch 136/200\n",
      "1/1 [==============================] - 0s 27ms/step - loss: 1.1710 - accuracy: 0.4706\n",
      "Epoch 137/200\n",
      "1/1 [==============================] - 0s 47ms/step - loss: 1.1402 - accuracy: 0.6471\n",
      "Epoch 138/200\n",
      "1/1 [==============================] - 0s 33ms/step - loss: 1.2441 - accuracy: 0.5882\n",
      "Epoch 139/200\n",
      "1/1 [==============================] - 0s 36ms/step - loss: 1.1948 - accuracy: 0.6471\n",
      "Epoch 140/200\n",
      "1/1 [==============================] - 0s 25ms/step - loss: 1.0881 - accuracy: 0.6471\n",
      "Epoch 141/200\n",
      "1/1 [==============================] - 0s 42ms/step - loss: 1.1448 - accuracy: 0.5294\n",
      "Epoch 142/200\n",
      "1/1 [==============================] - 0s 32ms/step - loss: 1.1475 - accuracy: 0.5294\n",
      "Epoch 143/200\n",
      "1/1 [==============================] - 0s 27ms/step - loss: 1.0532 - accuracy: 0.7059\n",
      "Epoch 144/200\n",
      "1/1 [==============================] - 0s 27ms/step - loss: 1.1015 - accuracy: 0.6471\n",
      "Epoch 145/200\n",
      "1/1 [==============================] - 0s 32ms/step - loss: 1.1098 - accuracy: 0.5882\n",
      "Epoch 146/200\n",
      "1/1 [==============================] - 0s 27ms/step - loss: 1.0447 - accuracy: 0.5882\n",
      "Epoch 147/200\n",
      "1/1 [==============================] - 0s 31ms/step - loss: 1.0501 - accuracy: 0.5882\n",
      "Epoch 148/200\n",
      "1/1 [==============================] - 0s 29ms/step - loss: 1.0789 - accuracy: 0.5882\n",
      "Epoch 149/200\n",
      "1/1 [==============================] - 0s 29ms/step - loss: 1.0179 - accuracy: 0.6471\n",
      "Epoch 150/200\n",
      "1/1 [==============================] - 0s 25ms/step - loss: 1.0355 - accuracy: 0.6471\n",
      "Epoch 151/200\n",
      "1/1 [==============================] - 0s 29ms/step - loss: 1.0478 - accuracy: 0.5294\n",
      "Epoch 152/200\n",
      "1/1 [==============================] - 0s 31ms/step - loss: 1.0123 - accuracy: 0.7059\n",
      "Epoch 153/200\n",
      "1/1 [==============================] - 0s 28ms/step - loss: 1.0067 - accuracy: 0.6471\n",
      "Epoch 154/200\n",
      "1/1 [==============================] - 0s 23ms/step - loss: 1.0253 - accuracy: 0.6471\n",
      "Epoch 155/200\n",
      "1/1 [==============================] - 0s 24ms/step - loss: 0.9911 - accuracy: 0.6471\n",
      "Epoch 156/200\n",
      "1/1 [==============================] - 0s 28ms/step - loss: 0.9922 - accuracy: 0.7647\n",
      "Epoch 157/200\n",
      "1/1 [==============================] - 0s 29ms/step - loss: 0.9996 - accuracy: 0.7059\n",
      "Epoch 158/200\n",
      "1/1 [==============================] - 0s 28ms/step - loss: 0.9774 - accuracy: 0.7647\n",
      "Epoch 159/200\n",
      "1/1 [==============================] - 0s 24ms/step - loss: 0.9746 - accuracy: 0.7059\n",
      "Epoch 160/200\n",
      "1/1 [==============================] - 0s 31ms/step - loss: 0.9807 - accuracy: 0.6471\n",
      "Epoch 161/200\n",
      "1/1 [==============================] - 0s 30ms/step - loss: 0.9594 - accuracy: 0.8235\n",
      "Epoch 162/200\n",
      "1/1 [==============================] - 0s 30ms/step - loss: 0.9628 - accuracy: 0.7059\n",
      "Epoch 163/200\n",
      "1/1 [==============================] - 0s 27ms/step - loss: 0.9607 - accuracy: 0.7647\n",
      "Epoch 164/200\n",
      "1/1 [==============================] - 0s 29ms/step - loss: 0.9447 - accuracy: 0.7647\n",
      "Epoch 165/200\n",
      "1/1 [==============================] - 0s 36ms/step - loss: 0.9476 - accuracy: 0.7647\n",
      "Epoch 166/200\n",
      "1/1 [==============================] - 0s 21ms/step - loss: 0.9405 - accuracy: 0.7647\n",
      "Epoch 167/200\n",
      "1/1 [==============================] - 0s 31ms/step - loss: 0.9301 - accuracy: 0.7647\n",
      "Epoch 168/200\n",
      "1/1 [==============================] - 0s 28ms/step - loss: 0.9324 - accuracy: 0.7059\n",
      "Epoch 169/200\n",
      "1/1 [==============================] - 0s 39ms/step - loss: 0.9212 - accuracy: 0.7059\n",
      "Epoch 170/200\n",
      "1/1 [==============================] - 0s 28ms/step - loss: 0.9182 - accuracy: 0.7059\n",
      "Epoch 171/200\n",
      "1/1 [==============================] - 0s 31ms/step - loss: 0.9148 - accuracy: 0.7059\n",
      "Epoch 172/200\n",
      "1/1 [==============================] - 0s 34ms/step - loss: 0.9058 - accuracy: 0.7059\n",
      "Epoch 173/200\n",
      "1/1 [==============================] - 0s 29ms/step - loss: 0.9061 - accuracy: 0.7059\n",
      "Epoch 174/200\n",
      "1/1 [==============================] - 0s 61ms/step - loss: 0.8958 - accuracy: 0.7059\n",
      "Epoch 175/200\n",
      "1/1 [==============================] - 0s 46ms/step - loss: 0.8957 - accuracy: 0.7059\n",
      "Epoch 176/200\n",
      "1/1 [==============================] - 0s 29ms/step - loss: 0.8866 - accuracy: 0.7059\n",
      "Epoch 177/200\n",
      "1/1 [==============================] - 0s 28ms/step - loss: 0.8850 - accuracy: 0.7059\n",
      "Epoch 178/200\n",
      "1/1 [==============================] - 0s 54ms/step - loss: 0.8780 - accuracy: 0.7059\n",
      "Epoch 179/200\n",
      "1/1 [==============================] - 0s 27ms/step - loss: 0.8752 - accuracy: 0.7059\n",
      "Epoch 180/200\n",
      "1/1 [==============================] - 0s 33ms/step - loss: 0.8681 - accuracy: 0.8235\n",
      "Epoch 181/200\n",
      "1/1 [==============================] - 0s 33ms/step - loss: 0.8660 - accuracy: 0.7647\n",
      "Epoch 182/200\n",
      "1/1 [==============================] - 0s 31ms/step - loss: 0.8585 - accuracy: 0.8235\n",
      "Epoch 183/200\n",
      "1/1 [==============================] - 0s 22ms/step - loss: 0.8575 - accuracy: 0.7647\n",
      "Epoch 184/200\n",
      "1/1 [==============================] - 0s 35ms/step - loss: 0.8501 - accuracy: 0.7647\n",
      "Epoch 185/200\n",
      "1/1 [==============================] - 0s 23ms/step - loss: 0.8463 - accuracy: 0.7647\n",
      "Epoch 186/200\n",
      "1/1 [==============================] - 0s 32ms/step - loss: 0.8434 - accuracy: 0.7647\n",
      "Epoch 187/200\n",
      "1/1 [==============================] - 0s 27ms/step - loss: 0.8365 - accuracy: 0.7647\n",
      "Epoch 188/200\n",
      "1/1 [==============================] - 0s 27ms/step - loss: 0.8329 - accuracy: 0.7647\n",
      "Epoch 189/200\n",
      "1/1 [==============================] - 0s 33ms/step - loss: 0.8304 - accuracy: 0.8235\n",
      "Epoch 190/200\n",
      "1/1 [==============================] - 0s 22ms/step - loss: 0.8254 - accuracy: 0.8235\n",
      "Epoch 191/200\n",
      "1/1 [==============================] - 0s 26ms/step - loss: 0.8192 - accuracy: 0.8235\n",
      "Epoch 192/200\n",
      "1/1 [==============================] - 0s 24ms/step - loss: 0.8157 - accuracy: 0.8235\n",
      "Epoch 193/200\n",
      "1/1 [==============================] - 0s 57ms/step - loss: 0.8142 - accuracy: 0.7647\n",
      "Epoch 194/200\n",
      "1/1 [==============================] - 0s 52ms/step - loss: 0.8126 - accuracy: 0.8235\n",
      "Epoch 195/200\n",
      "1/1 [==============================] - 0s 21ms/step - loss: 0.8144 - accuracy: 0.7647\n",
      "Epoch 196/200\n",
      "1/1 [==============================] - 0s 33ms/step - loss: 0.8122 - accuracy: 0.7059\n",
      "Epoch 197/200\n",
      "1/1 [==============================] - 0s 22ms/step - loss: 0.8212 - accuracy: 0.7647\n",
      "Epoch 198/200\n",
      "1/1 [==============================] - 0s 39ms/step - loss: 0.8113 - accuracy: 0.7647\n",
      "Epoch 199/200\n",
      "1/1 [==============================] - 0s 30ms/step - loss: 0.8193 - accuracy: 0.7647\n",
      "Epoch 200/200\n",
      "1/1 [==============================] - 0s 31ms/step - loss: 0.8015 - accuracy: 0.7647\n"
     ]
    },
    {
     "data": {
      "text/plain": [
       "<keras.callbacks.History at 0x2acae317bb0>"
      ]
     },
     "execution_count": 21,
     "metadata": {},
     "output_type": "execute_result"
    }
   ],
   "source": [
    "model.fit(x,y,epochs=200)"
   ]
  },
  {
   "cell_type": "code",
   "execution_count": 26,
   "metadata": {},
   "outputs": [
    {
     "name": "stdout",
     "output_type": "stream",
     "text": [
      "1/1 [==============================] - 1s 720ms/step\n",
      "namename\n",
      "1/1 [==============================] - 0s 37ms/step\n",
      "namename\n",
      "1/1 [==============================] - 0s 34ms/step\n",
      "namename\n",
      "1/1 [==============================] - 0s 32ms/step\n",
      "namename\n",
      "1/1 [==============================] - 0s 32ms/step\n",
      "namename\n"
     ]
    }
   ],
   "source": [
    "import numpy as np\n",
    "txt = 'name'\n",
    "for i in range(5):\n",
    "\n",
    "    # tokenizer\n",
    "    vt = tokenizer.texts_to_sequences([txt])[0]\n",
    "    #paddng \n",
    "    tp = pad_sequences([vt],maxlen=18,padding='pre')\n",
    "\n",
    "    pos=np.argmax(model.predict(tp))\n",
    "\n",
    "    for word,index in tokenizer.word_index.items():\n",
    "        if index==pos:\n",
    "            text = txt+''+word\n",
    "            print(text)"
   ]
  },
  {
   "cell_type": "code",
   "execution_count": null,
   "metadata": {},
   "outputs": [],
   "source": [
    "import numpy as np"
   ]
  },
  {
   "cell_type": "code",
   "execution_count": null,
   "metadata": {},
   "outputs": [],
   "source": []
  },
  {
   "cell_type": "code",
   "execution_count": null,
   "metadata": {},
   "outputs": [
    {
     "name": "stdout",
     "output_type": "stream",
     "text": [
      "1/1 [==============================] - 0s 70ms/step\n",
      "namename\n",
      "1/1 [==============================] - 0s 66ms/step\n",
      "namename\n",
      "1/1 [==============================] - 0s 37ms/step\n",
      "namename\n",
      "1/1 [==============================] - 0s 30ms/step\n",
      "namename\n",
      "1/1 [==============================] - 0s 32ms/step\n",
      "namename\n"
     ]
    }
   ],
   "source": [
    "   \n",
    "txt = 'name'\n",
    "for i in range(5):\n",
    "\n",
    "    # tokenizer\n",
    "    vt = tokenizer.texts_to_sequences([txt])[0]\n",
    "    #paddng \n",
    "    tp = pad_sequences([text_token],maxlen=17,padding='pre')\n",
    "\n",
    "    pos=np.argmax(model.predict(text_padding))\n",
    "\n",
    "    for word,index in tokenizer.word_index.items():\n",
    "        if index==pos:\n",
    "            text = txt+''+word\n",
    "            print(text)"
   ]
  },
  {
   "cell_type": "code",
   "execution_count": null,
   "metadata": {},
   "outputs": [],
   "source": []
  },
  {
   "cell_type": "code",
   "execution_count": null,
   "metadata": {},
   "outputs": [],
   "source": []
  }
 ],
 "metadata": {
  "kernelspec": {
   "display_name": "Python 3",
   "language": "python",
   "name": "python3"
  },
  "language_info": {
   "codemirror_mode": {
    "name": "ipython",
    "version": 3
   },
   "file_extension": ".py",
   "mimetype": "text/x-python",
   "name": "python",
   "nbconvert_exporter": "python",
   "pygments_lexer": "ipython3",
   "version": "3.10.8"
  }
 },
 "nbformat": 4,
 "nbformat_minor": 2
}
